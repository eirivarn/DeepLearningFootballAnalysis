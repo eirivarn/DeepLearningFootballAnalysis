{
 "cells": [
  {
   "cell_type": "markdown",
   "metadata": {},
   "source": [
    "#### Imports"
   ]
  },
  {
   "cell_type": "code",
   "execution_count": 4,
   "metadata": {},
   "outputs": [],
   "source": [
    "from src.data_utils import *\n",
    "import pandas as pd\n"
   ]
  },
  {
   "cell_type": "markdown",
   "metadata": {},
   "source": [
    "# Data Exploration\n",
    "\n",
    "In this section, we will explore the data that we will be working with throughout the project. This will form the foundation of our approach to addressing the task at hand."
   ]
  },
  {
   "cell_type": "markdown",
   "metadata": {},
   "source": [
    "## Ground truth file paths"
   ]
  },
  {
   "cell_type": "code",
   "execution_count": 1,
   "metadata": {},
   "outputs": [],
   "source": [
    "gt_train_1_path = 'data/1_train-val_1min_aalesund_from_start/gt/gt.txt'\n",
    "gt_train_2_path = 'data/2_train-val_1min_after_goal/gt/gt.txt'\n",
    "gt_test_3_path = 'data/3_test_1min_hamkam_from_start/gt/gt.txt'"
   ]
  },
  {
   "cell_type": "markdown",
   "metadata": {},
   "source": [
    "#### To analyse the ground truth data, we will transform them to csv format. This will be done using the **convert_gt_to_csv** function in the **src/utils.py** file."
   ]
  },
  {
   "cell_type": "code",
   "execution_count": 5,
   "metadata": {},
   "outputs": [
    {
     "name": "stdout",
     "output_type": "stream",
     "text": [
      "Converted data has been written to data/1_train-val_1min_aalesund_from_start/gt/gt.csv\n",
      "Converted data has been written to data/2_train-val_1min_after_goal/gt/gt.csv\n",
      "Converted data has been written to data/3_test_1min_hamkam_from_start/gt/gt.csv\n"
     ]
    }
   ],
   "source": [
    "gt1_csv_path = 'data/1_train-val_1min_aalesund_from_start/gt/gt.csv' \n",
    "gt2_csv_path = 'data/2_train-val_1min_after_goal/gt/gt.csv'\n",
    "gt3_csv_path = 'data/3_test_1min_hamkam_from_start/gt/gt.csv'\n",
    "\n",
    "convert_gt_to_csv(gt_train_1_path, gt1_csv_path)\n",
    "\n",
    "convert_gt_to_csv(gt_train_2_path, gt2_csv_path)\n",
    "\n",
    "convert_gt_to_csv(gt_test_3_path, gt3_csv_path)"
   ]
  },
  {
   "cell_type": "markdown",
   "metadata": {},
   "source": [
    "To analyse the data, we will load them into pandas dataframes. We will then display the first few rows of the dataframes to get a sense of the data."
   ]
  },
  {
   "cell_type": "code",
   "execution_count": null,
   "metadata": {},
   "outputs": [
    {
     "data": {
      "text/plain": [
       "'Head of ground truth data for test set 1'"
      ]
     },
     "metadata": {},
     "output_type": "display_data"
    },
    {
     "data": {
      "text/html": [
       "<div>\n",
       "<style scoped>\n",
       "    .dataframe tbody tr th:only-of-type {\n",
       "        vertical-align: middle;\n",
       "    }\n",
       "\n",
       "    .dataframe tbody tr th {\n",
       "        vertical-align: top;\n",
       "    }\n",
       "\n",
       "    .dataframe thead th {\n",
       "        text-align: right;\n",
       "    }\n",
       "</style>\n",
       "<table border=\"1\" class=\"dataframe\">\n",
       "  <thead>\n",
       "    <tr style=\"text-align: right;\">\n",
       "      <th></th>\n",
       "      <th>frame_id</th>\n",
       "      <th>object_id</th>\n",
       "      <th>x</th>\n",
       "      <th>y</th>\n",
       "      <th>width</th>\n",
       "      <th>height</th>\n",
       "      <th>unknown1</th>\n",
       "      <th>player/ball</th>\n",
       "      <th>unknown2</th>\n",
       "    </tr>\n",
       "  </thead>\n",
       "  <tbody>\n",
       "    <tr>\n",
       "      <th>0</th>\n",
       "      <td>1</td>\n",
       "      <td>1</td>\n",
       "      <td>1018.0</td>\n",
       "      <td>517.0</td>\n",
       "      <td>39.0</td>\n",
       "      <td>79.0</td>\n",
       "      <td>1</td>\n",
       "      <td>2</td>\n",
       "      <td>1.0</td>\n",
       "    </tr>\n",
       "    <tr>\n",
       "      <th>1</th>\n",
       "      <td>1</td>\n",
       "      <td>2</td>\n",
       "      <td>175.0</td>\n",
       "      <td>568.0</td>\n",
       "      <td>42.0</td>\n",
       "      <td>90.0</td>\n",
       "      <td>1</td>\n",
       "      <td>2</td>\n",
       "      <td>1.0</td>\n",
       "    </tr>\n",
       "    <tr>\n",
       "      <th>2</th>\n",
       "      <td>1</td>\n",
       "      <td>3</td>\n",
       "      <td>921.0</td>\n",
       "      <td>601.0</td>\n",
       "      <td>42.0</td>\n",
       "      <td>84.0</td>\n",
       "      <td>1</td>\n",
       "      <td>2</td>\n",
       "      <td>1.0</td>\n",
       "    </tr>\n",
       "    <tr>\n",
       "      <th>3</th>\n",
       "      <td>1</td>\n",
       "      <td>4</td>\n",
       "      <td>562.0</td>\n",
       "      <td>551.0</td>\n",
       "      <td>38.0</td>\n",
       "      <td>82.0</td>\n",
       "      <td>1</td>\n",
       "      <td>2</td>\n",
       "      <td>1.0</td>\n",
       "    </tr>\n",
       "    <tr>\n",
       "      <th>4</th>\n",
       "      <td>1</td>\n",
       "      <td>5</td>\n",
       "      <td>1659.0</td>\n",
       "      <td>795.0</td>\n",
       "      <td>49.0</td>\n",
       "      <td>111.0</td>\n",
       "      <td>1</td>\n",
       "      <td>2</td>\n",
       "      <td>1.0</td>\n",
       "    </tr>\n",
       "  </tbody>\n",
       "</table>\n",
       "</div>"
      ],
      "text/plain": [
       "   frame_id  object_id       x      y  width  height  unknown1  player/ball  \\\n",
       "0         1          1  1018.0  517.0   39.0    79.0         1            2   \n",
       "1         1          2   175.0  568.0   42.0    90.0         1            2   \n",
       "2         1          3   921.0  601.0   42.0    84.0         1            2   \n",
       "3         1          4   562.0  551.0   38.0    82.0         1            2   \n",
       "4         1          5  1659.0  795.0   49.0   111.0         1            2   \n",
       "\n",
       "   unknown2  \n",
       "0       1.0  \n",
       "1       1.0  \n",
       "2       1.0  \n",
       "3       1.0  \n",
       "4       1.0  "
      ]
     },
     "metadata": {},
     "output_type": "display_data"
    },
    {
     "data": {
      "text/plain": [
       "'Head of ground truth data for test set 2'"
      ]
     },
     "metadata": {},
     "output_type": "display_data"
    },
    {
     "data": {
      "text/html": [
       "<div>\n",
       "<style scoped>\n",
       "    .dataframe tbody tr th:only-of-type {\n",
       "        vertical-align: middle;\n",
       "    }\n",
       "\n",
       "    .dataframe tbody tr th {\n",
       "        vertical-align: top;\n",
       "    }\n",
       "\n",
       "    .dataframe thead th {\n",
       "        text-align: right;\n",
       "    }\n",
       "</style>\n",
       "<table border=\"1\" class=\"dataframe\">\n",
       "  <thead>\n",
       "    <tr style=\"text-align: right;\">\n",
       "      <th></th>\n",
       "      <th>frame_id</th>\n",
       "      <th>object_id</th>\n",
       "      <th>x</th>\n",
       "      <th>y</th>\n",
       "      <th>width</th>\n",
       "      <th>height</th>\n",
       "      <th>unknown1</th>\n",
       "      <th>player/ball</th>\n",
       "      <th>unknown2</th>\n",
       "    </tr>\n",
       "  </thead>\n",
       "  <tbody>\n",
       "    <tr>\n",
       "      <th>0</th>\n",
       "      <td>1</td>\n",
       "      <td>1</td>\n",
       "      <td>324.0</td>\n",
       "      <td>271.0</td>\n",
       "      <td>37.0</td>\n",
       "      <td>70.0</td>\n",
       "      <td>1</td>\n",
       "      <td>2</td>\n",
       "      <td>1.0</td>\n",
       "    </tr>\n",
       "    <tr>\n",
       "      <th>1</th>\n",
       "      <td>1</td>\n",
       "      <td>2</td>\n",
       "      <td>647.0</td>\n",
       "      <td>523.0</td>\n",
       "      <td>33.0</td>\n",
       "      <td>94.0</td>\n",
       "      <td>1</td>\n",
       "      <td>2</td>\n",
       "      <td>1.0</td>\n",
       "    </tr>\n",
       "    <tr>\n",
       "      <th>2</th>\n",
       "      <td>1</td>\n",
       "      <td>3</td>\n",
       "      <td>1628.0</td>\n",
       "      <td>253.0</td>\n",
       "      <td>26.0</td>\n",
       "      <td>70.0</td>\n",
       "      <td>1</td>\n",
       "      <td>2</td>\n",
       "      <td>1.0</td>\n",
       "    </tr>\n",
       "    <tr>\n",
       "      <th>3</th>\n",
       "      <td>1</td>\n",
       "      <td>4</td>\n",
       "      <td>440.0</td>\n",
       "      <td>299.0</td>\n",
       "      <td>33.0</td>\n",
       "      <td>69.0</td>\n",
       "      <td>1</td>\n",
       "      <td>2</td>\n",
       "      <td>1.0</td>\n",
       "    </tr>\n",
       "    <tr>\n",
       "      <th>4</th>\n",
       "      <td>1</td>\n",
       "      <td>5</td>\n",
       "      <td>1542.0</td>\n",
       "      <td>615.0</td>\n",
       "      <td>29.0</td>\n",
       "      <td>92.0</td>\n",
       "      <td>1</td>\n",
       "      <td>2</td>\n",
       "      <td>1.0</td>\n",
       "    </tr>\n",
       "  </tbody>\n",
       "</table>\n",
       "</div>"
      ],
      "text/plain": [
       "   frame_id  object_id       x      y  width  height  unknown1  player/ball  \\\n",
       "0         1          1   324.0  271.0   37.0    70.0         1            2   \n",
       "1         1          2   647.0  523.0   33.0    94.0         1            2   \n",
       "2         1          3  1628.0  253.0   26.0    70.0         1            2   \n",
       "3         1          4   440.0  299.0   33.0    69.0         1            2   \n",
       "4         1          5  1542.0  615.0   29.0    92.0         1            2   \n",
       "\n",
       "   unknown2  \n",
       "0       1.0  \n",
       "1       1.0  \n",
       "2       1.0  \n",
       "3       1.0  \n",
       "4       1.0  "
      ]
     },
     "metadata": {},
     "output_type": "display_data"
    },
    {
     "data": {
      "text/plain": [
       "'Head of ground truth data for test set 3'"
      ]
     },
     "metadata": {},
     "output_type": "display_data"
    },
    {
     "data": {
      "text/html": [
       "<div>\n",
       "<style scoped>\n",
       "    .dataframe tbody tr th:only-of-type {\n",
       "        vertical-align: middle;\n",
       "    }\n",
       "\n",
       "    .dataframe tbody tr th {\n",
       "        vertical-align: top;\n",
       "    }\n",
       "\n",
       "    .dataframe thead th {\n",
       "        text-align: right;\n",
       "    }\n",
       "</style>\n",
       "<table border=\"1\" class=\"dataframe\">\n",
       "  <thead>\n",
       "    <tr style=\"text-align: right;\">\n",
       "      <th></th>\n",
       "      <th>frame_id</th>\n",
       "      <th>object_id</th>\n",
       "      <th>x</th>\n",
       "      <th>y</th>\n",
       "      <th>width</th>\n",
       "      <th>height</th>\n",
       "      <th>unknown1</th>\n",
       "      <th>player/ball</th>\n",
       "      <th>unknown2</th>\n",
       "    </tr>\n",
       "  </thead>\n",
       "  <tbody>\n",
       "    <tr>\n",
       "      <th>0</th>\n",
       "      <td>1</td>\n",
       "      <td>1</td>\n",
       "      <td>1350.0</td>\n",
       "      <td>325.0</td>\n",
       "      <td>20.0</td>\n",
       "      <td>78.0</td>\n",
       "      <td>1</td>\n",
       "      <td>2</td>\n",
       "      <td>1.0</td>\n",
       "    </tr>\n",
       "    <tr>\n",
       "      <th>1</th>\n",
       "      <td>1</td>\n",
       "      <td>2</td>\n",
       "      <td>764.0</td>\n",
       "      <td>855.0</td>\n",
       "      <td>66.0</td>\n",
       "      <td>112.0</td>\n",
       "      <td>1</td>\n",
       "      <td>2</td>\n",
       "      <td>1.0</td>\n",
       "    </tr>\n",
       "    <tr>\n",
       "      <th>2</th>\n",
       "      <td>1</td>\n",
       "      <td>3</td>\n",
       "      <td>1649.0</td>\n",
       "      <td>371.0</td>\n",
       "      <td>35.0</td>\n",
       "      <td>86.0</td>\n",
       "      <td>1</td>\n",
       "      <td>2</td>\n",
       "      <td>1.0</td>\n",
       "    </tr>\n",
       "    <tr>\n",
       "      <th>3</th>\n",
       "      <td>1</td>\n",
       "      <td>4</td>\n",
       "      <td>50.0</td>\n",
       "      <td>232.0</td>\n",
       "      <td>28.0</td>\n",
       "      <td>68.0</td>\n",
       "      <td>1</td>\n",
       "      <td>2</td>\n",
       "      <td>1.0</td>\n",
       "    </tr>\n",
       "    <tr>\n",
       "      <th>4</th>\n",
       "      <td>1</td>\n",
       "      <td>5</td>\n",
       "      <td>797.0</td>\n",
       "      <td>519.0</td>\n",
       "      <td>32.0</td>\n",
       "      <td>106.0</td>\n",
       "      <td>1</td>\n",
       "      <td>2</td>\n",
       "      <td>1.0</td>\n",
       "    </tr>\n",
       "  </tbody>\n",
       "</table>\n",
       "</div>"
      ],
      "text/plain": [
       "   frame_id  object_id       x      y  width  height  unknown1  player/ball  \\\n",
       "0         1          1  1350.0  325.0   20.0    78.0         1            2   \n",
       "1         1          2   764.0  855.0   66.0   112.0         1            2   \n",
       "2         1          3  1649.0  371.0   35.0    86.0         1            2   \n",
       "3         1          4    50.0  232.0   28.0    68.0         1            2   \n",
       "4         1          5   797.0  519.0   32.0   106.0         1            2   \n",
       "\n",
       "   unknown2  \n",
       "0       1.0  \n",
       "1       1.0  \n",
       "2       1.0  \n",
       "3       1.0  \n",
       "4       1.0  "
      ]
     },
     "metadata": {},
     "output_type": "display_data"
    }
   ],
   "source": [
    "pd_train_csv_1 = pd.read_csv(gt1_csv_path)\n",
    "pd_train_csv_2 = pd.read_csv(gt2_csv_path)\n",
    "pd_test_csv_3 = pd.read_csv(gt3_csv_path)\n",
    "\n",
    "display('Head of ground truth data for test set 1', pd_train_csv_1.head())\n",
    "display('Head of ground truth data for test set 2', pd_train_csv_2.head())\n",
    "display('Head of ground truth data for test set 3', pd_test_csv_3.head())"
   ]
  },
  {
   "cell_type": "markdown",
   "metadata": {},
   "source": [
    "The data all looks like it is in the same format. We will continue to analyse the different columns in the dataframes to understand the data better."
   ]
  },
  {
   "cell_type": "code",
   "execution_count": null,
   "metadata": {},
   "outputs": [
    {
     "data": {
      "text/plain": [
       "'Summary of ground truth data for test set 1'"
      ]
     },
     "metadata": {},
     "output_type": "display_data"
    },
    {
     "data": {
      "text/html": [
       "<div>\n",
       "<style scoped>\n",
       "    .dataframe tbody tr th:only-of-type {\n",
       "        vertical-align: middle;\n",
       "    }\n",
       "\n",
       "    .dataframe tbody tr th {\n",
       "        vertical-align: top;\n",
       "    }\n",
       "\n",
       "    .dataframe thead th {\n",
       "        text-align: right;\n",
       "    }\n",
       "</style>\n",
       "<table border=\"1\" class=\"dataframe\">\n",
       "  <thead>\n",
       "    <tr style=\"text-align: right;\">\n",
       "      <th></th>\n",
       "      <th>Min</th>\n",
       "      <th>Mean</th>\n",
       "      <th>Mode</th>\n",
       "      <th>Unique Values</th>\n",
       "    </tr>\n",
       "  </thead>\n",
       "  <tbody>\n",
       "    <tr>\n",
       "      <th>frame_id</th>\n",
       "      <td>1.00</td>\n",
       "      <td>900.639238</td>\n",
       "      <td>433.0</td>\n",
       "      <td>1802</td>\n",
       "    </tr>\n",
       "    <tr>\n",
       "      <th>object_id</th>\n",
       "      <td>1.00</td>\n",
       "      <td>12.146735</td>\n",
       "      <td>1.0</td>\n",
       "      <td>25</td>\n",
       "    </tr>\n",
       "    <tr>\n",
       "      <th>x</th>\n",
       "      <td>0.00</td>\n",
       "      <td>888.886917</td>\n",
       "      <td>813.0</td>\n",
       "      <td>2469</td>\n",
       "    </tr>\n",
       "    <tr>\n",
       "      <th>y</th>\n",
       "      <td>40.00</td>\n",
       "      <td>360.236755</td>\n",
       "      <td>305.0</td>\n",
       "      <td>1525</td>\n",
       "    </tr>\n",
       "    <tr>\n",
       "      <th>width</th>\n",
       "      <td>4.70</td>\n",
       "      <td>28.465113</td>\n",
       "      <td>23.0</td>\n",
       "      <td>583</td>\n",
       "    </tr>\n",
       "    <tr>\n",
       "      <th>height</th>\n",
       "      <td>4.49</td>\n",
       "      <td>62.264168</td>\n",
       "      <td>50.0</td>\n",
       "      <td>633</td>\n",
       "    </tr>\n",
       "    <tr>\n",
       "      <th>unknown1</th>\n",
       "      <td>1.00</td>\n",
       "      <td>1.000000</td>\n",
       "      <td>1.0</td>\n",
       "      <td>1</td>\n",
       "    </tr>\n",
       "    <tr>\n",
       "      <th>player/ball</th>\n",
       "      <td>1.00</td>\n",
       "      <td>1.969367</td>\n",
       "      <td>2.0</td>\n",
       "      <td>2</td>\n",
       "    </tr>\n",
       "    <tr>\n",
       "      <th>unknown2</th>\n",
       "      <td>1.00</td>\n",
       "      <td>1.000000</td>\n",
       "      <td>1.0</td>\n",
       "      <td>1</td>\n",
       "    </tr>\n",
       "  </tbody>\n",
       "</table>\n",
       "</div>"
      ],
      "text/plain": [
       "               Min        Mean   Mode  Unique Values\n",
       "frame_id      1.00  900.639238  433.0           1802\n",
       "object_id     1.00   12.146735    1.0             25\n",
       "x             0.00  888.886917  813.0           2469\n",
       "y            40.00  360.236755  305.0           1525\n",
       "width         4.70   28.465113   23.0            583\n",
       "height        4.49   62.264168   50.0            633\n",
       "unknown1      1.00    1.000000    1.0              1\n",
       "player/ball   1.00    1.969367    2.0              2\n",
       "unknown2      1.00    1.000000    1.0              1"
      ]
     },
     "metadata": {},
     "output_type": "display_data"
    },
    {
     "data": {
      "text/plain": [
       "'Summary of ground truth data for test set 2'"
      ]
     },
     "metadata": {},
     "output_type": "display_data"
    },
    {
     "data": {
      "text/html": [
       "<div>\n",
       "<style scoped>\n",
       "    .dataframe tbody tr th:only-of-type {\n",
       "        vertical-align: middle;\n",
       "    }\n",
       "\n",
       "    .dataframe tbody tr th {\n",
       "        vertical-align: top;\n",
       "    }\n",
       "\n",
       "    .dataframe thead th {\n",
       "        text-align: right;\n",
       "    }\n",
       "</style>\n",
       "<table border=\"1\" class=\"dataframe\">\n",
       "  <thead>\n",
       "    <tr style=\"text-align: right;\">\n",
       "      <th></th>\n",
       "      <th>Min</th>\n",
       "      <th>Mean</th>\n",
       "      <th>Mode</th>\n",
       "      <th>Unique Values</th>\n",
       "    </tr>\n",
       "  </thead>\n",
       "  <tbody>\n",
       "    <tr>\n",
       "      <th>frame_id</th>\n",
       "      <td>1.0</td>\n",
       "      <td>897.897951</td>\n",
       "      <td>892.0</td>\n",
       "      <td>1802</td>\n",
       "    </tr>\n",
       "    <tr>\n",
       "      <th>object_id</th>\n",
       "      <td>1.0</td>\n",
       "      <td>11.870911</td>\n",
       "      <td>1.0</td>\n",
       "      <td>25</td>\n",
       "    </tr>\n",
       "    <tr>\n",
       "      <th>x</th>\n",
       "      <td>-1.0</td>\n",
       "      <td>908.151442</td>\n",
       "      <td>1044.0</td>\n",
       "      <td>2279</td>\n",
       "    </tr>\n",
       "    <tr>\n",
       "      <th>y</th>\n",
       "      <td>0.0</td>\n",
       "      <td>393.445757</td>\n",
       "      <td>322.0</td>\n",
       "      <td>1378</td>\n",
       "    </tr>\n",
       "    <tr>\n",
       "      <th>width</th>\n",
       "      <td>5.0</td>\n",
       "      <td>29.095123</td>\n",
       "      <td>24.0</td>\n",
       "      <td>318</td>\n",
       "    </tr>\n",
       "    <tr>\n",
       "      <th>height</th>\n",
       "      <td>6.0</td>\n",
       "      <td>67.709166</td>\n",
       "      <td>53.0</td>\n",
       "      <td>441</td>\n",
       "    </tr>\n",
       "    <tr>\n",
       "      <th>unknown1</th>\n",
       "      <td>1.0</td>\n",
       "      <td>1.000000</td>\n",
       "      <td>1.0</td>\n",
       "      <td>1</td>\n",
       "    </tr>\n",
       "    <tr>\n",
       "      <th>player/ball</th>\n",
       "      <td>1.0</td>\n",
       "      <td>1.972544</td>\n",
       "      <td>2.0</td>\n",
       "      <td>2</td>\n",
       "    </tr>\n",
       "    <tr>\n",
       "      <th>unknown2</th>\n",
       "      <td>1.0</td>\n",
       "      <td>1.000000</td>\n",
       "      <td>1.0</td>\n",
       "      <td>1</td>\n",
       "    </tr>\n",
       "  </tbody>\n",
       "</table>\n",
       "</div>"
      ],
      "text/plain": [
       "             Min        Mean    Mode  Unique Values\n",
       "frame_id     1.0  897.897951   892.0           1802\n",
       "object_id    1.0   11.870911     1.0             25\n",
       "x           -1.0  908.151442  1044.0           2279\n",
       "y            0.0  393.445757   322.0           1378\n",
       "width        5.0   29.095123    24.0            318\n",
       "height       6.0   67.709166    53.0            441\n",
       "unknown1     1.0    1.000000     1.0              1\n",
       "player/ball  1.0    1.972544     2.0              2\n",
       "unknown2     1.0    1.000000     1.0              1"
      ]
     },
     "metadata": {},
     "output_type": "display_data"
    },
    {
     "data": {
      "text/plain": [
       "'Summary of ground truth data for test set 3'"
      ]
     },
     "metadata": {},
     "output_type": "display_data"
    },
    {
     "data": {
      "text/html": [
       "<div>\n",
       "<style scoped>\n",
       "    .dataframe tbody tr th:only-of-type {\n",
       "        vertical-align: middle;\n",
       "    }\n",
       "\n",
       "    .dataframe tbody tr th {\n",
       "        vertical-align: top;\n",
       "    }\n",
       "\n",
       "    .dataframe thead th {\n",
       "        text-align: right;\n",
       "    }\n",
       "</style>\n",
       "<table border=\"1\" class=\"dataframe\">\n",
       "  <thead>\n",
       "    <tr style=\"text-align: right;\">\n",
       "      <th></th>\n",
       "      <th>Min</th>\n",
       "      <th>Mean</th>\n",
       "      <th>Mode</th>\n",
       "      <th>Unique Values</th>\n",
       "    </tr>\n",
       "  </thead>\n",
       "  <tbody>\n",
       "    <tr>\n",
       "      <th>frame_id</th>\n",
       "      <td>1.00</td>\n",
       "      <td>914.376209</td>\n",
       "      <td>402.0</td>\n",
       "      <td>1802</td>\n",
       "    </tr>\n",
       "    <tr>\n",
       "      <th>object_id</th>\n",
       "      <td>1.00</td>\n",
       "      <td>12.429797</td>\n",
       "      <td>1.0</td>\n",
       "      <td>26</td>\n",
       "    </tr>\n",
       "    <tr>\n",
       "      <th>x</th>\n",
       "      <td>-3.00</td>\n",
       "      <td>913.568779</td>\n",
       "      <td>0.0</td>\n",
       "      <td>2985</td>\n",
       "    </tr>\n",
       "    <tr>\n",
       "      <th>y</th>\n",
       "      <td>25.30</td>\n",
       "      <td>425.077927</td>\n",
       "      <td>362.0</td>\n",
       "      <td>1933</td>\n",
       "    </tr>\n",
       "    <tr>\n",
       "      <th>width</th>\n",
       "      <td>5.00</td>\n",
       "      <td>30.125108</td>\n",
       "      <td>23.0</td>\n",
       "      <td>865</td>\n",
       "    </tr>\n",
       "    <tr>\n",
       "      <th>height</th>\n",
       "      <td>6.83</td>\n",
       "      <td>60.229825</td>\n",
       "      <td>61.0</td>\n",
       "      <td>886</td>\n",
       "    </tr>\n",
       "    <tr>\n",
       "      <th>unknown1</th>\n",
       "      <td>1.00</td>\n",
       "      <td>1.000000</td>\n",
       "      <td>1.0</td>\n",
       "      <td>1</td>\n",
       "    </tr>\n",
       "    <tr>\n",
       "      <th>player/ball</th>\n",
       "      <td>1.00</td>\n",
       "      <td>1.966534</td>\n",
       "      <td>2.0</td>\n",
       "      <td>2</td>\n",
       "    </tr>\n",
       "    <tr>\n",
       "      <th>unknown2</th>\n",
       "      <td>1.00</td>\n",
       "      <td>1.000000</td>\n",
       "      <td>1.0</td>\n",
       "      <td>1</td>\n",
       "    </tr>\n",
       "  </tbody>\n",
       "</table>\n",
       "</div>"
      ],
      "text/plain": [
       "               Min        Mean   Mode  Unique Values\n",
       "frame_id      1.00  914.376209  402.0           1802\n",
       "object_id     1.00   12.429797    1.0             26\n",
       "x            -3.00  913.568779    0.0           2985\n",
       "y            25.30  425.077927  362.0           1933\n",
       "width         5.00   30.125108   23.0            865\n",
       "height        6.83   60.229825   61.0            886\n",
       "unknown1      1.00    1.000000    1.0              1\n",
       "player/ball   1.00    1.966534    2.0              2\n",
       "unknown2      1.00    1.000000    1.0              1"
      ]
     },
     "metadata": {},
     "output_type": "display_data"
    }
   ],
   "source": [
    "summary_train_csv_1 = dataframe_summary(pd_train_csv_1)\n",
    "summary_train_csv_2 = dataframe_summary(pd_train_csv_2)\n",
    "summary_test_csv_3 = dataframe_summary(pd_test_csv_3)\n",
    "\n",
    "display('Summary of ground truth data for test set 1', summary_train_csv_1)\n",
    "display('Summary of ground truth data for test set 2', summary_train_csv_2)\n",
    "display('Summary of ground truth data for test set 3', summary_test_csv_3)"
   ]
  },
  {
   "cell_type": "markdown",
   "metadata": {},
   "source": [
    "We can also visualise the ground truth data to get a better understanding."
   ]
  },
  {
   "cell_type": "code",
   "execution_count": 7,
   "metadata": {},
   "outputs": [],
   "source": [
    "image_train_path_1 = 'data/1_train-val_1min_aalesund_from_start/img1'\n",
    "image_train_path_2 = 'data/2_train-val_1min_after_goal/img1'\n",
    "image_test_path_3 = 'data/3_test_1min_hamkam_from_start/img1'\n",
    "\n",
    "annotated_image_path_1 = 'data/1_train-val_1min_aalesund_from_start/annotated_img1'\n",
    "annotated_image_path_2 = 'data/2_train-val_1min_after_goal/annotated_img1'\n",
    "annotated_image_path_3 = 'data/3_test_1min_hamkam_from_start/annotated_img1'\n"
   ]
  },
  {
   "cell_type": "code",
   "execution_count": null,
   "metadata": {},
   "outputs": [],
   "source": [
    "\n",
    "annotate_images(image_train_path_1, gt1_csv_path, annotated_image_path_1)\n",
    "\n",
    "annotate_images(image_train_path_2, gt2_csv_path, annotated_image_path_2)\n",
    "\n",
    "annotate_images(image_test_path_3, gt3_csv_path, annotated_image_path_3)"
   ]
  },
  {
   "cell_type": "markdown",
   "metadata": {},
   "source": [
    "Image train data Aalesund:\n",
    "\n",
    "![](data/1_train-val_1min_aalesund_from_start/annotated_img1/annotated_000001.jpg)\n",
    "\n",
    "Image train data after goal: \n",
    "\n",
    "![](data/2_train-val_1min_after_goal/annotated_img1/annotated_000001.jpg)\n",
    "\n",
    "Image test data hamkam:\n",
    "\n",
    "![](data/3_test_1min_hamkam_from_start/annotated_img1/annotated_000001.jpg)"
   ]
  },
  {
   "cell_type": "markdown",
   "metadata": {},
   "source": [
    "## Image dimensions\n",
    "This function outputs the unuque image dimensions in the dataset."
   ]
  },
  {
   "cell_type": "code",
   "execution_count": 8,
   "metadata": {},
   "outputs": [
    {
     "data": {
      "text/plain": [
       "'Image dimensions for test set 1'"
      ]
     },
     "metadata": {},
     "output_type": "display_data"
    },
    {
     "data": {
      "text/plain": [
       "{(1920, 1080)}"
      ]
     },
     "metadata": {},
     "output_type": "display_data"
    },
    {
     "data": {
      "text/plain": [
       "'Image dimensions for test set 2'"
      ]
     },
     "metadata": {},
     "output_type": "display_data"
    },
    {
     "data": {
      "text/plain": [
       "{(1920, 1080)}"
      ]
     },
     "metadata": {},
     "output_type": "display_data"
    },
    {
     "data": {
      "text/plain": [
       "'Image dimensions for test set 3'"
      ]
     },
     "metadata": {},
     "output_type": "display_data"
    },
    {
     "data": {
      "text/plain": [
       "{(1920, 1080)}"
      ]
     },
     "metadata": {},
     "output_type": "display_data"
    }
   ],
   "source": [
    "image_train_dimensions_1 = get_image_dimensions(image_train_path_1)\n",
    "image_train_dimensions_2 = get_image_dimensions(image_train_path_2)\n",
    "image_test_dimensions_3 = get_image_dimensions(image_test_path_3)\n",
    "\n",
    "display('Image dimensions for test set 1', image_train_dimensions_1)\n",
    "display('Image dimensions for test set 2', image_train_dimensions_2)\n",
    "display('Image dimensions for test set 3', image_test_dimensions_3)"
   ]
  },
  {
   "cell_type": "code",
   "execution_count": null,
   "metadata": {},
   "outputs": [],
   "source": []
  }
 ],
 "metadata": {
  "kernelspec": {
   "display_name": "tdt4265",
   "language": "python",
   "name": "tdt4265"
  },
  "language_info": {
   "codemirror_mode": {
    "name": "ipython",
    "version": 3
   },
   "file_extension": ".py",
   "mimetype": "text/x-python",
   "name": "python",
   "nbconvert_exporter": "python",
   "pygments_lexer": "ipython3",
   "version": "3.10.13"
  }
 },
 "nbformat": 4,
 "nbformat_minor": 2
}
