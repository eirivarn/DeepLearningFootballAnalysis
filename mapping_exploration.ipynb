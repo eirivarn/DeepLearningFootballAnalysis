{
 "cells": [
  {
   "cell_type": "code",
   "execution_count": null,
   "metadata": {},
   "outputs": [],
   "source": [
    "from ultralytics import YOLO\n",
    "import numpy as np\n",
    "import cv2\n",
    "import matplotlib.pyplot as plt\n",
    "from src.mapping_utils.keypoint_coordinates import *\n",
    "import os"
   ]
  },
  {
   "cell_type": "code",
   "execution_count": null,
   "metadata": {},
   "outputs": [],
   "source": [
    "image_folder = 'data/1_train-val_1min_aalesund_from_start/img1'\n",
    "\n",
    "keypoint_model = YOLO('yolo_weights/keypoint_weights.pt')\n",
    "\n",
    "image_folder = sorted([os.path.join(image_folder, f) for f in os.listdir(image_folder) if f.endswith('.jpg')])"
   ]
  },
  {
   "cell_type": "markdown",
   "metadata": {},
   "source": [
    "#### Keypoint model"
   ]
  },
  {
   "cell_type": "code",
   "execution_count": null,
   "metadata": {},
   "outputs": [],
   "source": [
    "for image_path in image_folder:\n",
    "    print(image_path)\n",
    "    for result in keypoint_model.track(image_path, persist=True, stream=True, line_width=1, tracker='botsort.yaml'):\n",
    "        annotated_frame = result.plot(font_size=1, line_width=1)\n",
    "        cv2.imshow('frame', annotated_frame)\n",
    "        key = cv2.waitKey(1) & 0xFF\n",
    "        if key == 27:\n",
    "            break\n",
    "    if key == 27:\n",
    "        break\n",
    "cv2.destroyAllWindows()    "
   ]
  },
  {
   "cell_type": "code",
   "execution_count": null,
   "metadata": {},
   "outputs": [],
   "source": [
    "#TODO add a function that chooses the 4 keypoints with the best accuracy"
   ]
  },
  {
   "cell_type": "markdown",
   "metadata": {},
   "source": [
    "### Initiating football field coordinates"
   ]
  },
  {
   "cell_type": "code",
   "execution_count": null,
   "metadata": {},
   "outputs": [],
   "source": [
    "football_field_coordinates = {\n",
    "    1: [ 45. , 565. ], # 1\n",
    "    2: [ 457.5, 565.], # 2\n",
    "    3: [ 45. ,  30. ], # 3\n",
    "    4: [ 457.5, 30. ], # 4\n",
    "    5: [ 45. , 455. ], # 5\n",
    "    6: [175. , 455. ], # 6\n",
    "    7: [175. , 350. ], # 7\n",
    "    8: [175. , 250. ], # 8\n",
    "    9: [175. , 140. ], # 9\n",
    "    10: [ 45. , 140. ], # 10\n",
    "    11: [ 45. , 370. ], # 11\n",
    "    12: [ 85. , 370. ], # 12 \n",
    "    13: [ 85. , 230. ], # 13\n",
    "    14: [ 45  , 230. ], # 14\n",
    "    15: [130. , 300. ], # 15\n",
    "    16: [457.5, 370. ], # 16 \n",
    "    17: [457.5, 300. ], # 17\n",
    "    18: [457.5, 225. ], # 18\n",
    "    19: [200. , 300. ], # 19\n",
    "    20: [385. , 300. ], # 20 \n",
    "    21: [530. , 300. ], # 21 \n",
    "    22: [870. , 565. ], # 22\n",
    "    23: [870. ,  30. ], # 23\n",
    "    25: [870. , 455. ], # 25 \n",
    "    26: [740. , 455. ], # 26\n",
    "    27: [740. , 350. ], # 27\n",
    "    28: [740. , 250. ], # 28\n",
    "    29: [740. , 140. ], # 29\n",
    "    30: [870. , 140. ], # 30\n",
    "    31: [870. , 370. ], # 31\n",
    "    32: [830. , 370. ], # 32\n",
    "    33: [830. , 230. ], # 33\n",
    "    34: [870  , 230. ], # 34\n",
    "    35: [785. , 300. ], # 35\n",
    "    39: [715. , 300. ]  # 39\n",
    "}\n",
    "# Convert football_field_coordinates to a dictionary\n",
    "football_field_coordinates_dict = {i+1: coord for i, coord in enumerate(football_field_coordinates)}\n",
    "\n",
    "keypoint_mirror_mapping = {\n",
    "    0: 18, 2: 19, 3: 20, 4: 21, 5: 22, 6: 23, 7: 24,\n",
    "    8: 25, 9: 26, 15: 27, 16: 17\n",
    "}"
   ]
  },
  {
   "cell_type": "code",
   "execution_count": null,
   "metadata": {},
   "outputs": [],
   "source": [
    "# Save the dictionary to a text file\n",
    "with open('football_field_coordinates.txt', 'w') as file:\n",
    "    for key, value in football_field_coordinates.items():\n",
    "        file.write(f'{key}: {value}\\n')"
   ]
  },
  {
   "cell_type": "markdown",
   "metadata": {},
   "source": [
    "### Initiating model"
   ]
  },
  {
   "cell_type": "code",
   "execution_count": null,
   "metadata": {},
   "outputs": [],
   "source": []
  },
  {
   "cell_type": "code",
   "execution_count": null,
   "metadata": {},
   "outputs": [],
   "source": [
    "image_path = 'data/1_train-val_1min_aalesund_from_start/img1/000041.jpg'"
   ]
  },
  {
   "cell_type": "code",
   "execution_count": null,
   "metadata": {},
   "outputs": [],
   "source": [
    "keypoint_results = keypoint_model(image_path)\n",
    "\n",
    "keypoint_confidence = keypoint_results[0].boxes.conf.cpu().numpy()\n",
    "class_id = keypoint_results[0].boxes.cls.cpu().numpy() + 1\n",
    "bounding_boxes = keypoint_results[0].boxes.xyxy.cpu().numpy()\n",
    "\n",
    "top_four_indexes = np.argsort(-keypoint_confidence)[:4]\n",
    "\n",
    "top_class_id = class_id[top_four_indexes]\n",
    "top_bounding_boxes = bounding_boxes[top_four_indexes]\n",
    "\n",
    "top_centers = np.array([[0.5 * (box[0] + box[2]), box[1] ] for box in top_bounding_boxes])\n",
    "\n",
    "real_centers = []\n",
    "\n",
    "for i, center in enumerate(top_centers):\n",
    "    current_class_id = int(top_class_id[i])\n",
    "    if current_class_id in football_field_coordinates:\n",
    "        real_centers.append(football_field_coordinates[current_class_id])\n",
    "    else:\n",
    "        real_centers.append(center.tolist())"
   ]
  },
  {
   "cell_type": "code",
   "execution_count": null,
   "metadata": {},
   "outputs": [],
   "source": [
    "H, status = cv2.findHomography(top_centers, np.array(real_centers))"
   ]
  },
  {
   "cell_type": "code",
   "execution_count": null,
   "metadata": {},
   "outputs": [],
   "source": [
    "combined_model = YOLO('yolo_weights/combined_weights.pt')\n",
    "combined_results = combined_model(image_path)\n",
    "\n",
    "bounding_boxes = combined_results[0].boxes.xyxy.cpu().numpy()\n",
    "centers = np.array([[0.5 * (box[0] + box[2]), 0.5 * (box[1] + box[3])] for box in bounding_boxes])"
   ]
  },
  {
   "cell_type": "code",
   "execution_count": null,
   "metadata": {},
   "outputs": [],
   "source": [
    "field_coordinates = cv2.perspectiveTransform(centers.reshape(-1, 1, 2), H).reshape(-1, 2)\n",
    "draw_football_field(field_coordinates)"
   ]
  }
 ],
 "metadata": {
  "kernelspec": {
   "display_name": "venv",
   "language": "python",
   "name": "python3"
  },
  "language_info": {
   "codemirror_mode": {
    "name": "ipython",
    "version": 3
   },
   "file_extension": ".py",
   "mimetype": "text/x-python",
   "name": "python",
   "nbconvert_exporter": "python",
   "pygments_lexer": "ipython3",
   "version": "3.10.13"
  }
 },
 "nbformat": 4,
 "nbformat_minor": 2
}
