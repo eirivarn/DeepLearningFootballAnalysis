{
 "cells": [
  {
   "cell_type": "markdown",
   "metadata": {},
   "source": [
    "### Installing ultralytics to use YOLOv8"
   ]
  },
  {
   "cell_type": "code",
   "execution_count": null,
   "metadata": {},
   "outputs": [],
   "source": [
    "from ultralytics import YOLO \n",
    "import cv2\n",
    "import os"
   ]
  },
  {
   "cell_type": "markdown",
   "metadata": {},
   "source": [
    "### Initiating a model as the yolo8x model"
   ]
  },
  {
   "cell_type": "code",
   "execution_count": null,
   "metadata": {},
   "outputs": [],
   "source": [
    "model = YOLO('yolov8x')"
   ]
  },
  {
   "cell_type": "markdown",
   "metadata": {},
   "source": [
    "### Running the predictions with the pre-trained model on 1 image"
   ]
  },
  {
   "cell_type": "code",
   "execution_count": null,
   "metadata": {},
   "outputs": [],
   "source": [
    "# model.predict('data/1_train-val_1min_aalesund_from_start/img1/000001.jpg', save=True)"
   ]
  },
  {
   "cell_type": "markdown",
   "metadata": {},
   "source": [
    "### Running the default preictor on the enire image set"
   ]
  },
  {
   "cell_type": "code",
   "execution_count": null,
   "metadata": {},
   "outputs": [],
   "source": [
    "# model.predict('data/1_train-val_1min_aalesund_from_start/img1', save=True)"
   ]
  },
  {
   "cell_type": "markdown",
   "metadata": {},
   "source": [
    "### Training a model to find the players"
   ]
  },
  {
   "cell_type": "code",
   "execution_count": null,
   "metadata": {},
   "outputs": [],
   "source": [
    "options = {\n",
    "    'data': 'yaml/players.yaml',\n",
    "    'epochs': 50,\n",
    "    'batch_size': 32,\n",
    "    'img_size': 960,\n",
    "    'project': 'players'\n",
    "}\n",
    "\n",
    "!yolo task=detect mode=train data={options['data']} epochs={options['epochs']} batch={options['batch_size']} imgsz={options['img_size']} "
   ]
  },
  {
   "cell_type": "markdown",
   "metadata": {},
   "source": [
    "### Training a model to find the ball"
   ]
  },
  {
   "cell_type": "code",
   "execution_count": null,
   "metadata": {},
   "outputs": [],
   "source": [
    "model_ball = YOLO('yolo_weights/ball_weights.pt')\n",
    "\n",
    "# Train the model directly specifying all the parameters\n",
    "results_keypoints = model_ball.train(\n",
    "    data='yaml/ball.yaml',\n",
    "    epochs=50,\n",
    "    batch=32,\n",
    "    imgsz=1024,\n",
    "    device='0',  \n",
    "    workers=4,\n",
    "    project='ball_training_best',\n",
    "    exist_ok=True\n",
    ")"
   ]
  },
  {
   "cell_type": "markdown",
   "metadata": {},
   "source": [
    "### Training to find keypoints"
   ]
  },
  {
   "cell_type": "code",
   "execution_count": null,
   "metadata": {},
   "outputs": [],
   "source": [
    "model_keypoints = YOLO('yolo_weights/keypoin_weights_new.pt')\n",
    "\n",
    "# Train the model directly specifying all the parameters\n",
    "results_keypoints = model_keypoints.train(\n",
    "    data='yaml/keypoints.yaml',\n",
    "    epochs=50,\n",
    "    batch=30,\n",
    "    imgsz=1024,\n",
    "    device='0',  \n",
    "    workers=4,\n",
    "    exist_ok=True,\n",
    "    project='keypoints_training'\n",
    ")"
   ]
  },
  {
   "cell_type": "markdown",
   "metadata": {},
   "source": [
    "#### Testing model to detect ball"
   ]
  },
  {
   "cell_type": "code",
   "execution_count": null,
   "metadata": {},
   "outputs": [],
   "source": [
    "model_ball = YOLO('yolo_weights/new_best_ball?.pt')\n",
    "image_folder = 'data/3_test_1min_hamkam_from_start/img1'\n",
    "image_folder = sorted([os.path.join(image_folder, f) for f in os.listdir(image_folder) if f.endswith('.jpg')])"
   ]
  },
  {
   "cell_type": "code",
   "execution_count": null,
   "metadata": {},
   "outputs": [],
   "source": [
    "for image_path in image_folder:\n",
    "    print(image_path)\n",
    "    for result in model_ball.track(image_path, persist=True, stream=True, line_width=1, tracker='botsort.yaml'):\n",
    "        annotated_frame = result.plot(font_size=1, line_width=1)\n",
    "        cv2.imshow('frame', annotated_frame)\n",
    "        key = cv2.waitKey(1) & 0xFF\n",
    "        if key == 27:\n",
    "            break\n",
    "    if key == 27:\n",
    "        break\n",
    "cv2.destroyAllWindows() "
   ]
  },
  {
   "cell_type": "markdown",
   "metadata": {},
   "source": [
    "#### Testing model to detect players (and ball)"
   ]
  },
  {
   "cell_type": "code",
   "execution_count": null,
   "metadata": {},
   "outputs": [],
   "source": [
    "combined_model = YOLO('runs/detect/train3/weights/best.pt')\n",
    "image_folder = 'data/3_test_1min_hamkam_from_start/img1'\n",
    "image_folder = sorted([os.path.join(image_folder, f) for f in os.listdir(image_folder) if f.endswith('.jpg')])\n"
   ]
  },
  {
   "cell_type": "code",
   "execution_count": null,
   "metadata": {},
   "outputs": [],
   "source": [
    "for image_path in image_folder:\n",
    "    print(image_path)\n",
    "    for result in combined_model.track(image_path, persist=True, stream=True, line_width=1, tracker='botsort.yaml'):\n",
    "        annotated_frame = result.plot(font_size=1, line_width=1)\n",
    "        cv2.imshow('frame', annotated_frame)\n",
    "        key = cv2.waitKey(1) & 0xFF\n",
    "        if key == 27:\n",
    "            break\n",
    "    if key == 27:\n",
    "        break\n",
    "cv2.destroyAllWindows()   "
   ]
  },
  {
   "cell_type": "markdown",
   "metadata": {},
   "source": [
    "#### Testing model to detect keypoints"
   ]
  },
  {
   "cell_type": "code",
   "execution_count": null,
   "metadata": {},
   "outputs": [],
   "source": [
    "model_keypoints = YOLO('yolo_weights/keypoint_test.pt')\n",
    "image_folder = 'data/1_train-val_1min_aalesund_from_start/img1'\n",
    "image_folder = sorted([os.path.join(image_folder, f) for f in os.listdir(image_folder) if f.endswith('.jpg')])"
   ]
  },
  {
   "cell_type": "code",
   "execution_count": null,
   "metadata": {},
   "outputs": [],
   "source": [
    "metrics = model_keypoints.val(data='yaml/keypoints.yaml', device='mps')"
   ]
  },
  {
   "cell_type": "code",
   "execution_count": null,
   "metadata": {},
   "outputs": [],
   "source": [
    "display(metrics.box.map)"
   ]
  },
  {
   "cell_type": "code",
   "execution_count": null,
   "metadata": {},
   "outputs": [],
   "source": [
    "image_path = 'data/3_test_1min_hamkam_from_start/img1/000436.jpg'\n",
    "model_keypoints.predict(image_path, save=True, project='keypoints_test', conf=0.5)"
   ]
  },
  {
   "cell_type": "code",
   "execution_count": null,
   "metadata": {},
   "outputs": [],
   "source": [
    "for image_path in image_folder:\n",
    "    print(image_path)\n",
    "    for result in model_keypoints.track(image_path, persist=True, stream=True, line_width=1, tracker='botsort.yaml', conf=0.5):\n",
    "        annotated_frame = result.plot(font_size=1, line_width=1)\n",
    "        cv2.imshow('frame', annotated_frame)\n",
    "        key = cv2.waitKey(1) & 0xFF\n",
    "        if key == 27:\n",
    "            break\n",
    "    if key == 27:\n",
    "        break\n",
    "cv2.destroyAllWindows()   "
   ]
  },
  {
   "cell_type": "markdown",
   "metadata": {},
   "source": [
    "# Evaluating the mapping"
   ]
  },
  {
   "cell_type": "markdown",
   "metadata": {},
   "source": [
    "### Ball "
   ]
  },
  {
   "cell_type": "markdown",
   "metadata": {},
   "source": [
    "### Ball"
   ]
  },
  {
   "cell_type": "code",
   "execution_count": 2,
   "metadata": {},
   "outputs": [
    {
     "name": "stdout",
     "output_type": "stream",
     "text": [
      "Ultralytics YOLOv8.2.2 🚀 Python-3.10.13 torch-2.2.2+cu121 CUDA:0 (NVIDIA A100-PCIE-40GB, 40338MiB)\n",
      "Model summary (fused): 168 layers, 3005843 parameters, 0 gradients, 8.1 GFLOPs\n"
     ]
    },
    {
     "name": "stderr",
     "output_type": "stream",
     "text": [
      "\u001b[34m\u001b[1mval: \u001b[0mScanning /cluster/home/eirivarn/code/DeepLearningFotballAnalysis/data/yolo_data/testing/ball/labels.cache... 1412 images, 390 backgrounds, 0 corrupt: 100%|██████████| 1802/1802 [00:00<?, ?it/s]\n",
      "/cluster/home/eirivarn/.conda/envs/tdt4265/lib/python3.10/site-packages/torch/utils/data/dataloader.py:558: UserWarning: This DataLoader will create 8 worker processes in total. Our suggested max number of worker in current system is 2, which is smaller than what this DataLoader is going to create. Please be aware that excessive worker creation might get DataLoader running slow or even freeze, lower the worker number to avoid potential slowness/freeze if necessary.\n",
      "  warnings.warn(_create_warning_msg(\n",
      "                 Class     Images  Instances      Box(P          R      mAP50  mAP50-95): 100%|██████████| 113/113 [01:26<00:00,  1.31it/s]\n"
     ]
    },
    {
     "name": "stdout",
     "output_type": "stream",
     "text": [
      "                   all       1802       1412      0.945      0.789        0.9       0.62\n",
      "Speed: 0.7ms preprocess, 4.4ms inference, 0.0ms loss, 13.2ms postprocess per image\n",
      "Results saved to \u001b[1mruns/detect/val3\u001b[0m\n"
     ]
    }
   ],
   "source": [
    "model_ball = YOLO('yolo_weights/ball_weights.pt')\n",
    "val = model_ball.val(data='yaml/test_ball.yaml')"
   ]
  },
  {
   "cell_type": "code",
   "execution_count": 9,
   "metadata": {},
   "outputs": [
    {
     "name": "stdout",
     "output_type": "stream",
     "text": [
      "Ultralytics YOLOv8.2.2 🚀 Python-3.10.13 torch-2.2.2+cu121 CUDA:0 (NVIDIA A100-PCIE-40GB, 40338MiB)\n",
      "Model summary (fused): 268 layers, 68124531 parameters, 0 gradients, 257.4 GFLOPs\n"
     ]
    },
    {
     "name": "stderr",
     "output_type": "stream",
     "text": [
      "\u001b[34m\u001b[1mval: \u001b[0mScanning /cluster/home/eirivarn/code/DeepLearningFotballAnalysis/data/yolo_data/testing/ball/labels.cache... 1412 images, 390 backgrounds, 0 corrupt: 100%|██████████| 1802/1802 [00:00<?, ?it/s]\n",
      "/cluster/home/eirivarn/.conda/envs/tdt4265/lib/python3.10/site-packages/torch/utils/data/dataloader.py:558: UserWarning: This DataLoader will create 8 worker processes in total. Our suggested max number of worker in current system is 2, which is smaller than what this DataLoader is going to create. Please be aware that excessive worker creation might get DataLoader running slow or even freeze, lower the worker number to avoid potential slowness/freeze if necessary.\n",
      "  warnings.warn(_create_warning_msg(\n",
      "                 Class     Images  Instances      Box(P          R      mAP50  mAP50-95): 100%|██████████| 113/113 [00:43<00:00,  2.62it/s]\n"
     ]
    },
    {
     "name": "stdout",
     "output_type": "stream",
     "text": [
      "                   all       1802       1412      0.625      0.488      0.542      0.324\n",
      "Speed: 0.2ms preprocess, 10.0ms inference, 0.0ms loss, 2.6ms postprocess per image\n",
      "Results saved to \u001b[1mruns/detect/val8\u001b[0m\n"
     ]
    }
   ],
   "source": [
    "model_ball = YOLO('model_ball/ball_training_IDUN_E20_B20_img1024_it2/weights/best.pt')\n",
    "val = model_ball.val(data='yaml/test_ball.yaml')"
   ]
  },
  {
   "cell_type": "code",
   "execution_count": null,
   "metadata": {},
   "outputs": [],
   "source": [
    "model_ball = YOLO('model_ball/train_e100_imgsz1024_bz_12/weights/best.pt')\n",
    "val = model_ball.val(data='yaml/test_ball.yaml')"
   ]
  },
  {
   "cell_type": "markdown",
   "metadata": {},
   "source": [
    "### Players"
   ]
  },
  {
   "cell_type": "code",
   "execution_count": null,
   "metadata": {},
   "outputs": [],
   "source": [
    "model_ball = YOLO('model_players/player_trainging_cybele_E50_B12_img1024_it1/weights/best.pt')\n",
    "val = model_ball.val(data='yaml/test_players.yaml')"
   ]
  },
  {
   "cell_type": "code",
   "execution_count": null,
   "metadata": {},
   "outputs": [],
   "source": [
    "model_ball = YOLO('yolo_weights/player_weights.pt')\n",
    "val = model_ball.val(data='yaml/test_players.yaml')"
   ]
  },
  {
   "cell_type": "markdown",
   "metadata": {},
   "source": [
    "### Keypoints"
   ]
  },
  {
   "cell_type": "code",
   "execution_count": 5,
   "metadata": {},
   "outputs": [
    {
     "name": "stdout",
     "output_type": "stream",
     "text": [
      "Ultralytics YOLOv8.2.2 🚀 Python-3.10.13 torch-2.2.2+cu121 CUDA:0 (NVIDIA A100-PCIE-40GB, 40338MiB)\n",
      "Model summary (fused): 268 layers, 68150532 parameters, 0 gradients, 257.5 GFLOPs\n"
     ]
    },
    {
     "name": "stderr",
     "output_type": "stream",
     "text": [
      "\u001b[34m\u001b[1mval: \u001b[0mScanning /cluster/home/eirivarn/code/DeepLearningFotballAnalysis/data/yolo_data/combined_keypoints/validation/labels.cache... 721 images, 0 backgrounds, 3 corrupt: 100%|██████████| 721/721 [00:00<?, ?it/s]"
     ]
    },
    {
     "name": "stdout",
     "output_type": "stream",
     "text": [
      "\u001b[34m\u001b[1mval: \u001b[0mWARNING ⚠️ /cluster/home/eirivarn/code/DeepLearningFotballAnalysis/data/yolo_data/combined_keypoints/validation/images/000841.jpg: ignoring corrupt image/label: non-normalized or out of bounds coordinates [     1.0014]\n",
      "\u001b[34m\u001b[1mval: \u001b[0mWARNING ⚠️ /cluster/home/eirivarn/code/DeepLearningFotballAnalysis/data/yolo_data/combined_keypoints/validation/images/001188.jpg: ignoring corrupt image/label: non-normalized or out of bounds coordinates [     1.0007]\n",
      "\u001b[34m\u001b[1mval: \u001b[0mWARNING ⚠️ /cluster/home/eirivarn/code/DeepLearningFotballAnalysis/data/yolo_data/combined_keypoints/validation/images/001190.jpg: ignoring corrupt image/label: non-normalized or out of bounds coordinates [     1.0035]\n"
     ]
    },
    {
     "name": "stderr",
     "output_type": "stream",
     "text": [
      "\n",
      "/cluster/home/eirivarn/.conda/envs/tdt4265/lib/python3.10/site-packages/torch/utils/data/dataloader.py:558: UserWarning: This DataLoader will create 8 worker processes in total. Our suggested max number of worker in current system is 2, which is smaller than what this DataLoader is going to create. Please be aware that excessive worker creation might get DataLoader running slow or even freeze, lower the worker number to avoid potential slowness/freeze if necessary.\n",
      "  warnings.warn(_create_warning_msg(\n",
      "                 Class     Images  Instances      Box(P          R      mAP50  mAP50-95): 100%|██████████| 45/45 [00:23<00:00,  1.88it/s]\n"
     ]
    },
    {
     "name": "stdout",
     "output_type": "stream",
     "text": [
      "                   all        718       6763      0.994      0.997      0.995      0.955\n",
      "                     0        718        219      0.995          1      0.995      0.972\n",
      "                     1        718        663          1      0.999      0.995      0.968\n",
      "                     2        718        193      0.998          1      0.995      0.934\n",
      "                     3        718        364      0.996          1      0.995      0.969\n",
      "                     4        718        289          1          1      0.995      0.959\n",
      "                     5        718        178      0.999          1      0.995      0.966\n",
      "                     6        718        101      0.998          1      0.995      0.974\n",
      "                     7        718        161          1      0.991      0.995      0.946\n",
      "                     8        718        177      0.999          1      0.995      0.958\n",
      "                     9        718         98          1      0.982      0.995       0.95\n",
      "                    10        718         30      0.945          1      0.995      0.951\n",
      "                    11        718        177      0.999          1      0.995      0.978\n",
      "                    12        718        674          1      0.998      0.995      0.982\n",
      "                    13        718        321          1          1      0.995      0.981\n",
      "                    14        718        680      0.998          1      0.995      0.985\n",
      "                    15        718        284      0.996          1      0.995      0.936\n",
      "                    16        718        718          1      0.998      0.995      0.975\n",
      "                    17        718        578          1      0.995      0.995      0.976\n",
      "                    18        718        107      0.971          1      0.995      0.939\n",
      "                    19        718         76      0.996          1      0.995      0.924\n",
      "                    20        718        183      0.998      0.989      0.995      0.934\n",
      "                    21        718        137          1      0.983      0.995      0.952\n",
      "                    22        718         63          1       0.98      0.991      0.951\n",
      "                    23        718         27          1      0.997      0.995      0.956\n",
      "                    24        718         49      0.999          1      0.995      0.878\n",
      "                    25        718         58      0.998          1      0.995      0.927\n",
      "                    26        718         23      0.956          1      0.993      0.958\n",
      "                    27        718        135          1      0.993      0.995      0.966\n",
      "Speed: 0.8ms preprocess, 10.6ms inference, 0.0ms loss, 2.3ms postprocess per image\n",
      "Results saved to \u001b[1mruns/detect/val5\u001b[0m\n"
     ]
    }
   ],
   "source": [
    "model_keypoints = YOLO('model_keypoints/train3/weights/best.pt')\n",
    "val = model_keypoints.val(data='yaml/keypoints.yaml')"
   ]
  },
  {
   "cell_type": "code",
   "execution_count": 7,
   "metadata": {},
   "outputs": [
    {
     "name": "stdout",
     "output_type": "stream",
     "text": [
      "Ultralytics YOLOv8.2.2 🚀 Python-3.10.13 torch-2.2.2+cu121 CUDA:0 (NVIDIA A100-PCIE-40GB, 40338MiB)\n",
      "Model summary (fused): 268 layers, 68150532 parameters, 0 gradients, 257.5 GFLOPs\n"
     ]
    },
    {
     "name": "stderr",
     "output_type": "stream",
     "text": [
      "\u001b[34m\u001b[1mval: \u001b[0mScanning /cluster/home/eirivarn/code/DeepLearningFotballAnalysis/data/yolo_data/combined_keypoints/validation/labels.cache... 721 images, 0 backgrounds, 3 corrupt: 100%|██████████| 721/721 [00:00<?, ?it/s]"
     ]
    },
    {
     "name": "stdout",
     "output_type": "stream",
     "text": [
      "\u001b[34m\u001b[1mval: \u001b[0mWARNING ⚠️ /cluster/home/eirivarn/code/DeepLearningFotballAnalysis/data/yolo_data/combined_keypoints/validation/images/000841.jpg: ignoring corrupt image/label: non-normalized or out of bounds coordinates [     1.0014]\n",
      "\u001b[34m\u001b[1mval: \u001b[0mWARNING ⚠️ /cluster/home/eirivarn/code/DeepLearningFotballAnalysis/data/yolo_data/combined_keypoints/validation/images/001188.jpg: ignoring corrupt image/label: non-normalized or out of bounds coordinates [     1.0007]\n",
      "\u001b[34m\u001b[1mval: \u001b[0mWARNING ⚠️ /cluster/home/eirivarn/code/DeepLearningFotballAnalysis/data/yolo_data/combined_keypoints/validation/images/001190.jpg: ignoring corrupt image/label: non-normalized or out of bounds coordinates [     1.0035]\n"
     ]
    },
    {
     "name": "stderr",
     "output_type": "stream",
     "text": [
      "\n",
      "/cluster/home/eirivarn/.conda/envs/tdt4265/lib/python3.10/site-packages/torch/utils/data/dataloader.py:558: UserWarning: This DataLoader will create 8 worker processes in total. Our suggested max number of worker in current system is 2, which is smaller than what this DataLoader is going to create. Please be aware that excessive worker creation might get DataLoader running slow or even freeze, lower the worker number to avoid potential slowness/freeze if necessary.\n",
      "  warnings.warn(_create_warning_msg(\n",
      "                 Class     Images  Instances      Box(P          R      mAP50  mAP50-95): 100%|██████████| 45/45 [00:22<00:00,  2.02it/s]\n"
     ]
    },
    {
     "name": "stdout",
     "output_type": "stream",
     "text": [
      "                   all        718       6763      0.994      0.997      0.995      0.955\n",
      "                     0        718        219      0.995          1      0.995      0.972\n",
      "                     1        718        663          1      0.999      0.995      0.968\n",
      "                     2        718        193      0.998          1      0.995      0.934\n",
      "                     3        718        364      0.996          1      0.995      0.969\n",
      "                     4        718        289          1          1      0.995      0.959\n",
      "                     5        718        178      0.999          1      0.995      0.966\n",
      "                     6        718        101      0.998          1      0.995      0.974\n",
      "                     7        718        161          1      0.991      0.995      0.946\n",
      "                     8        718        177      0.999          1      0.995      0.958\n",
      "                     9        718         98          1      0.982      0.995       0.95\n",
      "                    10        718         30      0.945          1      0.995      0.951\n",
      "                    11        718        177      0.999          1      0.995      0.978\n",
      "                    12        718        674          1      0.998      0.995      0.982\n",
      "                    13        718        321          1          1      0.995      0.981\n",
      "                    14        718        680      0.998          1      0.995      0.985\n",
      "                    15        718        284      0.996          1      0.995      0.936\n",
      "                    16        718        718          1      0.998      0.995      0.975\n",
      "                    17        718        578          1      0.995      0.995      0.976\n",
      "                    18        718        107      0.971          1      0.995      0.939\n",
      "                    19        718         76      0.996          1      0.995      0.924\n",
      "                    20        718        183      0.998      0.989      0.995      0.934\n",
      "                    21        718        137          1      0.983      0.995      0.952\n",
      "                    22        718         63          1       0.98      0.991      0.951\n",
      "                    23        718         27          1      0.997      0.995      0.956\n",
      "                    24        718         49      0.999          1      0.995      0.878\n",
      "                    25        718         58      0.998          1      0.995      0.927\n",
      "                    26        718         23      0.956          1      0.993      0.958\n",
      "                    27        718        135          1      0.993      0.995      0.966\n",
      "Speed: 1.7ms preprocess, 9.8ms inference, 0.0ms loss, 2.2ms postprocess per image\n",
      "Results saved to \u001b[1mruns/detect/val6\u001b[0m\n"
     ]
    }
   ],
   "source": [
    "model_keypoints = YOLO('model_keypoints/train3/weights/best.pt')\n",
    "val = model_keypoints.val(data='yaml/keypoints.yaml')"
   ]
  }
 ],
 "metadata": {
  "kernelspec": {
   "display_name": "Python 3",
   "language": "python",
   "name": "python3"
  },
  "language_info": {
   "codemirror_mode": {
    "name": "ipython",
    "version": 3
   },
   "file_extension": ".py",
   "mimetype": "text/x-python",
   "name": "python",
   "nbconvert_exporter": "python",
   "pygments_lexer": "ipython3",
   "version": "3.10.13"
  }
 },
 "nbformat": 4,
 "nbformat_minor": 2
}
