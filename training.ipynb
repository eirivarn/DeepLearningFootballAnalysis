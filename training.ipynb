{
 "cells": [
  {
   "cell_type": "code",
   "execution_count": null,
   "metadata": {},
   "outputs": [],
   "source": [
    "from ultralytics import YOLO"
   ]
  },
  {
   "cell_type": "markdown",
   "metadata": {},
   "source": [
    "Use this command it the terminal to view the power usage every 2 seconds: **watch -n 2 nvidia-smi**"
   ]
  },
  {
   "cell_type": "markdown",
   "metadata": {},
   "source": [
    "## Training a model to find the ball and players"
   ]
  },
  {
   "cell_type": "markdown",
   "metadata": {},
   "source": [
    "We will start the training by tuning a already pre-trained yolov8x model, that have been trained on to coco8 dataset. We will then use the hyperparameters in the following training to optimize the process. "
   ]
  },
  {
   "cell_type": "code",
   "execution_count": null,
   "metadata": {},
   "outputs": [],
   "source": [
    "base_model = YOLO('yolo_weights/yolov8x')"
   ]
  },
  {
   "cell_type": "markdown",
   "metadata": {},
   "source": [
    "# Pre training from another dataset"
   ]
  },
  {
   "cell_type": "code",
   "execution_count": null,
   "metadata": {},
   "outputs": [],
   "source": [
    "data ='yaml/pre_training/ball.yaml'\n",
    "epochs = 50\n",
    "batch_size = -1\n",
    "img_size = 1024\n",
    "project = 'pre_training_ball'\n",
    "\n",
    "results = base_model.train(data=data, epochs=epochs, batch=batch_size, imgsz=img_size, project=project)"
   ]
  },
  {
   "cell_type": "code",
   "execution_count": null,
   "metadata": {},
   "outputs": [],
   "source": [
    "data ='yaml/pre_training/player.yaml'\n",
    "epochs = 50\n",
    "batch_size = -1\n",
    "img_size = 1024\n",
    "project = 'pre_training_players'\n",
    "\n",
    "results = base_model.train(data=data, epochs=epochs, batch=batch_size, imgsz=img_size, project=project)"
   ]
  },
  {
   "cell_type": "markdown",
   "metadata": {},
   "source": [
    "### Tuning with ultralytics"
   ]
  },
  {
   "cell_type": "code",
   "execution_count": null,
   "metadata": {},
   "outputs": [],
   "source": [
    "combined_model = YOLO('model_combined/combined_training_cybele_E50_B32_img640_it0/weights/best.pt')"
   ]
  },
  {
   "cell_type": "markdown",
   "metadata": {},
   "source": [
    "### Tuning with ultralytics \n",
    "If you want to use the built inn ultralytics tuner, run the scrips below. Else use the default hyperparmaeters, or give a path to custome hyperparameters in the following models"
   ]
  },
  {
   "cell_type": "code",
   "execution_count": null,
   "metadata": {},
   "outputs": [],
   "source": [
    "data ='yaml/ball.yaml'\n",
    "epochs = 20\n",
    "project = 'model_ball'\n",
    "\n",
    "results = combined_model.tune(data=data, epochs=epochs, project=project)"
   ]
  },
  {
   "cell_type": "code",
   "execution_count": null,
   "metadata": {},
   "outputs": [],
   "source": [
    "data ='yaml/players.yaml'\n",
    "epochs = 20\n",
    "project = 'model_players'\n",
    "\n",
    "results = combined_model.tune(data=data, epochs=epochs, project=project)"
   ]
  },
  {
   "cell_type": "code",
   "execution_count": null,
   "metadata": {},
   "outputs": [],
   "source": [
    "data ='yaml/keypoints.yaml'\n",
    "epochs = 20\n",
    "project = 'model_keypoints'\n",
    "\n",
    "results = base_model.tune(data=data, epochs=epochs, project=project)"
   ]
  },
  {
   "cell_type": "markdown",
   "metadata": {},
   "source": [
    "# Training the model"
   ]
  },
  {
   "cell_type": "code",
   "execution_count": null,
   "metadata": {},
   "outputs": [],
   "source": [
    "ball_model = YOLO('model_ball/train_imgsz_1920_from_epoch_1_20/weights/best.pt')\n",
    "hyperparameters = 'model_ball/tune/best_hyperparameters.yaml'\n",
    "\n",
    "data ='yaml/ball.yaml'\n",
    "epochs = 50\n",
    "batch_size = -1\n",
    "img_size = 1600\n",
    "project = 'model_ball'\n",
    "\n",
    "\n",
    "results = ball_model.train(\n",
    "                            data=data, \n",
    "                            epochs=epochs, \n",
    "                            batch=batch_size, \n",
    "                            imgsz=img_size, \n",
    "                            project=project, \n",
    "                            cfg=hyperparameters\n",
    "                            )"
   ]
  },
  {
   "cell_type": "code",
   "execution_count": null,
   "metadata": {},
   "outputs": [],
   "source": [
    "model_player = YOLO('model_players/player_tuning/weights/best.pt')\n",
    "hyperparameters = 'model_players/tune/best_hyperparameters.yaml'\n",
    "\n",
    "data ='yaml/players.yaml'\n",
    "epochs = 100\n",
    "batch_size = -1\n",
    "img_size = 1024\n",
    "project = 'model_players'\n",
    "\n",
    "results = model_player.train(data=data, \n",
    "                               epochs=epochs, \n",
    "                               batch=batch_size, \n",
    "                               imgsz=img_size, \n",
    "                               project=project, \n",
    "                               cfg=hyperparameters\n",
    "                               )"
   ]
  },
  {
   "cell_type": "code",
   "execution_count": null,
   "metadata": {},
   "outputs": [],
   "source": [
    "model_keypoints = YOLO('model_keypoints/train3/weights/best.pt')\n",
    "hyperparameters = 'model_keypoints/tune/best_hyperparameters.yaml'\n",
    "\n",
    "data ='yaml/players.yaml'\n",
    "epochs = 100\n",
    "batch_size = -1\n",
    "img_size = 1024\n",
    "project = 'model_keypoints'\n",
    "\n",
    "results = model_keypoints.train(data=data, \n",
    "                               epochs=epochs, \n",
    "                               batch=batch_size, \n",
    "                               imgsz=img_size, \n",
    "                               project=project, \n",
    "                               cfg=hyperparameters\n",
    "                               )"
   ]
  },
  {
   "cell_type": "markdown",
   "metadata": {},
   "source": [
    "# Evaluation of the Models"
   ]
  },
  {
   "cell_type": "markdown",
   "metadata": {},
   "source": [
    "Ball Model"
   ]
  },
  {
   "cell_type": "code",
   "execution_count": null,
   "metadata": {},
   "outputs": [],
   "source": [
    "ball_model = YOLO('model_ball/train/weights/best.pt')\n",
    "model_ball_results = ball_model.val(data='yaml/test_ball.yaml')"
   ]
  },
  {
   "cell_type": "markdown",
   "metadata": {},
   "source": [
    "Image of the training results for the ball\n",
    "![](model_ball/train/results.png)"
   ]
  },
  {
   "cell_type": "markdown",
   "metadata": {},
   "source": [
    "Player Model"
   ]
  },
  {
   "cell_type": "code",
   "execution_count": null,
   "metadata": {},
   "outputs": [],
   "source": [
    "player_model = YOLO('model_player/train/weights/best.pt')\n",
    "model_ball_results = ball_model.val(data='yaml/test_players.yaml')"
   ]
  },
  {
   "cell_type": "markdown",
   "metadata": {},
   "source": [
    "Image of the training results for the players\n",
    "![](model_players/train/results.png)"
   ]
  },
  {
   "cell_type": "markdown",
   "metadata": {},
   "source": [
    "Keypoint Model"
   ]
  },
  {
   "cell_type": "code",
   "execution_count": null,
   "metadata": {},
   "outputs": [],
   "source": [
    "keypoint_model = YOLO('model_player/train/weights/best.pt')\n",
    "model_ball_results = ball_model.val(data='yaml/test_ball.yaml')"
   ]
  },
  {
   "cell_type": "markdown",
   "metadata": {},
   "source": [
    "Image of the training results for the keypoints\n",
    "![](model_keypoints/train/results.png)"
   ]
  }
 ],
 "metadata": {
  "kernelspec": {
   "display_name": "venv",
   "language": "python",
   "name": "python3"
  },
  "language_info": {
   "codemirror_mode": {
    "name": "ipython",
    "version": 3
   },
   "file_extension": ".py",
   "mimetype": "text/x-python",
   "name": "python",
   "nbconvert_exporter": "python",
   "pygments_lexer": "ipython3",
   "version": "3.10.13"
  }
 },
 "nbformat": 4,
 "nbformat_minor": 4
}
