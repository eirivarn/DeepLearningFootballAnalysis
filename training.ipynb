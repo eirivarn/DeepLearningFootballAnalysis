{
 "cells": [
  {
   "cell_type": "code",
   "execution_count": null,
   "metadata": {},
   "outputs": [],
   "source": [
    "from ultralytics import YOLO"
   ]
  },
  {
   "cell_type": "markdown",
   "metadata": {},
   "source": [
    "Use this command it the terminal to view the power usage every 2 seconds: **watch -n 2 nvidia-smi**"
   ]
  },
  {
   "cell_type": "markdown",
   "metadata": {},
   "source": [
    "# Pre-training and Training the Final Model"
   ]
  },
  {
   "cell_type": "markdown",
   "metadata": {},
   "source": [
    "We will start the training by tuning a already pre-trained yolov8x model, that have been trained on to coco8 dataset. We will then use the hyperparameters in the following training to optimize the process. "
   ]
  },
  {
   "cell_type": "code",
   "execution_count": null,
   "metadata": {},
   "outputs": [],
   "source": [
    "base_model = YOLO('yolo_weights/yolov8x')"
   ]
  },
  {
   "cell_type": "markdown",
   "metadata": {},
   "source": [
    "### Pre training from another dataset\n",
    "This pre-training is based on training the model on a dataset from [Roboflow](https://universe.roboflow.com/object-detection-project-using-yolo-v8/football-players-detection-iksk4)"
   ]
  },
  {
   "cell_type": "code",
   "execution_count": null,
   "metadata": {},
   "outputs": [],
   "source": [
    "data ='yaml/pre_training_ball.yaml'\n",
    "epochs = 50\n",
    "batch_size = 12\n",
    "img_size = 1024\n",
    "project = 'pre_training_ball'\n",
    "\n",
    "results = base_model.train(data=data, epochs=epochs, batch=batch_size, imgsz=img_size, project=project)"
   ]
  },
  {
   "cell_type": "markdown",
   "metadata": {},
   "source": [
    "### Finding the Best Hyperparameters with Tuning from Ultralytics \n",
    "If you want to use the built inn ultralytics tuner, run the scrips below. Else use the default hyperparmaeters, or give a path to custome hyperparameters in the following models"
   ]
  },
  {
   "cell_type": "code",
   "execution_count": null,
   "metadata": {},
   "outputs": [],
   "source": [
    "data ='yaml/ball.yaml'\n",
    "epochs = 20\n",
    "project = 'tuning_model_ball'\n",
    "iterations = 20\n",
    "\n",
    "ball_tuning_results = base_model.tune(data=data, epochs=epochs, iterations=iterations, project=project)"
   ]
  },
  {
   "cell_type": "code",
   "execution_count": null,
   "metadata": {},
   "outputs": [],
   "source": [
    "data ='yaml/players.yaml'\n",
    "epochs = 20\n",
    "project = 'tuning_model_players'\n",
    "iterations = 20\n",
    "\n",
    "player_tuning_results = base_model.tune(data=data, epochs=epochs, iterations=iterations, project=project)"
   ]
  },
  {
   "cell_type": "code",
   "execution_count": null,
   "metadata": {},
   "outputs": [],
   "source": [
    "data ='yaml/keypoints.yaml'\n",
    "epochs = 20\n",
    "project = 'tuning_model_keypoints'\n",
    "iterations = 20\n",
    "batch = batch = 50\n",
    "\n",
    "keypoints_tuning_results = base_model.tune(data=data, epochs=epochs, batch=batch, iterations=iterations, project=project)"
   ]
  },
  {
   "cell_type": "markdown",
   "metadata": {},
   "source": [
    "# Training the model"
   ]
  },
  {
   "cell_type": "code",
   "execution_count": null,
   "metadata": {},
   "outputs": [],
   "source": [
    "pre_trained_model_ball = YOLO('pre_training_ball/tune/weights/best.pt')\n",
    "hyperparameters = 'tuning_model_ball/tune/best_hyperparameters.yaml'\n",
    "\n",
    "data ='yaml/ball.yaml'\n",
    "epochs = 50\n",
    "batch_size = 8\n",
    "img_size = 1600\n",
    "project = 'model_ball'\n",
    "\n",
    "\n",
    "results = pre_trained_model_ball.train(\n",
    "                            data=data, \n",
    "                            epochs=epochs, \n",
    "                            batch=batch_size, \n",
    "                            imgsz=img_size, \n",
    "                            project=project, \n",
    "                            cfg=hyperparameters\n",
    "                            )"
   ]
  },
  {
   "cell_type": "code",
   "execution_count": null,
   "metadata": {},
   "outputs": [],
   "source": [
    "hyperparameters = 'tuning_model_players/tune/best_hyperparameters.yaml'\n",
    "\n",
    "data ='yaml/players.yaml'\n",
    "epochs = 100\n",
    "batch_size = 12\n",
    "img_size = 1024\n",
    "project = 'model_players'\n",
    "\n",
    "results = base_model.train(\n",
    "                               data=data, \n",
    "                               epochs=epochs, \n",
    "                               batch=batch_size, \n",
    "                               imgsz=img_size, \n",
    "                               project=project, \n",
    "                               cfg=hyperparameters\n",
    "                               )"
   ]
  },
  {
   "cell_type": "code",
   "execution_count": null,
   "metadata": {},
   "outputs": [],
   "source": [
    "base_model = YOLO('yolo_weights/yolov9c')"
   ]
  },
  {
   "cell_type": "code",
   "execution_count": null,
   "metadata": {},
   "outputs": [],
   "source": [
    "hyperparameters = 'tuning_model_keypoints/tune/best_hyperparameters.yaml'\n",
    "\n",
    "data ='yaml/keypoints.yaml'\n",
    "epochs = 100\n",
    "batch_size = 32\n",
    "img_size = 640\n",
    "project = 'model_keypoints'\n",
    "\n",
    "results = base_model.train(data=data, \n",
    "                               epochs=epochs, \n",
    "                               batch=batch_size, \n",
    "                               imgsz=img_size, \n",
    "                               project=project, \n",
    "                               cfg=hyperparameters\n",
    "                               )"
   ]
  },
  {
   "cell_type": "markdown",
   "metadata": {},
   "source": [
    "# Evaluation of the Models"
   ]
  },
  {
   "cell_type": "markdown",
   "metadata": {},
   "source": [
    "Ball Model"
   ]
  },
  {
   "cell_type": "code",
   "execution_count": null,
   "metadata": {},
   "outputs": [],
   "source": [
    "model_ball = YOLO('model_ball/train/weights/best.pt')\n",
    "model_ball_results = model_ball.val(data='yaml/test_ball.yaml')"
   ]
  },
  {
   "cell_type": "markdown",
   "metadata": {},
   "source": [
    "Image of the training results for the ball\n",
    "![](model_ball/train/results.png)"
   ]
  },
  {
   "cell_type": "markdown",
   "metadata": {},
   "source": [
    "Player Model"
   ]
  },
  {
   "cell_type": "code",
   "execution_count": null,
   "metadata": {},
   "outputs": [],
   "source": [
    "model_players = YOLO('model_players/train/weights/best.pt')\n",
    "model_players_results = model_players.val(data='yaml/test_players.yaml')"
   ]
  },
  {
   "cell_type": "markdown",
   "metadata": {},
   "source": [
    "Image of the training results for the players\n",
    "![](model_players/train/results.png)"
   ]
  }
 ],
 "metadata": {
  "kernelspec": {
   "display_name": "venv",
   "language": "python",
   "name": "python3"
  },
  "language_info": {
   "codemirror_mode": {
    "name": "ipython",
    "version": 3
   },
   "file_extension": ".py",
   "mimetype": "text/x-python",
   "name": "python",
   "nbconvert_exporter": "python",
   "pygments_lexer": "ipython3",
   "version": "3.10.13"
  }
 },
 "nbformat": 4,
 "nbformat_minor": 4
}
