{
 "cells": [
  {
   "cell_type": "markdown",
   "metadata": {},
   "source": [
    "#### Imports"
   ]
  },
  {
   "cell_type": "code",
   "execution_count": 1,
   "metadata": {},
   "outputs": [],
   "source": [
    "from src.data_utils import *"
   ]
  },
  {
   "cell_type": "code",
   "execution_count": 2,
   "metadata": {},
   "outputs": [],
   "source": [
    "gt1_path = 'data/1_train-val_1min_aalesund_from_start/gt/gt.txt'\n",
    "gt2_path = 'data/2_train-val_1min_after_goal/gt/gt.txt'\n",
    "gt3_path = 'data/3_test_1min_hamkam_from_start/gt/gt.txt'\n",
    "\n",
    "gt1_csv_path = 'data/1_train-val_1min_aalesund_from_start/gt/gt.csv' \n",
    "gt2_csv_path = 'data/2_train-val_1min_after_goal/gt/gt.csv'\n",
    "gt3_csv_path = 'data/3_test_1min_hamkam_from_start/gt/gt.csv'\n",
    "\n",
    "image_path_1 = 'data/1_train-val_1min_aalesund_from_start/img1'\n",
    "image_path_2 = 'data/2_train-val_1min_after_goal/img1'\n",
    "image_path_3 = 'data/3_test_1min_hamkam_from_start/img1'\n",
    "\n",
    "annotated_image_path_1 = 'data/1_train-val_1min_aalesund_from_start/annotated_img1'\n",
    "annotated_image_path_2 = 'data/2_train-val_1min_after_goal/annotated_img1'\n",
    "annotated_image_path_3 = 'data/3_test_1min_hamkam_from_start/annotated_img1'\n",
    "\n",
    "preprcessed_image_path_1 = 'data/1_train-val_1min_aalesund_from_start/gt/gt_with_in_frame.csv'\n",
    "preprcessed_image_path_2 = 'data/2_train-val_1min_after_goal/gt/gt_with_in_frame.csv'\n",
    "preprcessed_image_path_3 = 'data/3_test_1min_hamkam_from_start/gt/gt_with_in_frame.csv'\n",
    "\n",
    "gt_for_YOLO_path_1 = 'data/1_train-val_1min_aalesund_from_start/gt_for_YOLO'\n",
    "gt_for_YOLO_path_2 = 'data/2_train-val_1min_after_goal/gt_for_YOLO'\n",
    "gt_for_YOLO_path_3 = 'data/3_test_1min_hamkam_from_start/gt_for_YOLO'\n",
    "\n",
    "gt_csv_paths = [gt1_csv_path, gt2_csv_path, gt3_csv_path]\n",
    "\n",
    "output_image_dir = 'data/combined_data/images'\n",
    "output_label_dir = 'data/combined_data/labels'\n",
    "\n",
    "image_dirs = [\n",
    "    'data/1_train-val_1min_aalesund_from_start/img1',\n",
    "    'data/2_train-val_1min_after_goal/img1'\n",
    "]\n",
    "\n",
    "label_dirs = [\n",
    "    'data/1_train-val_1min_aalesund_from_start/gt_for_YOLO',\n",
    "    'data/2_train-val_1min_after_goal/gt_for_YOLO'\n",
    "]\n",
    "\n",
    "\n",
    "label_dirs_keypoints = [\n",
    "    'data/1_train-val_1min_aalesund_from_start/keypoint_annotation',\n",
    "    'data/2_train-val_1min_after_goal/keypoint_annotation'\n",
    "]"
   ]
  },
  {
   "cell_type": "markdown",
   "metadata": {},
   "source": [
    "## Formating for YOLO\n",
    "\n",
    "Getting the data on the format expected by the YOLO framework. This is: \n",
    "\n",
    "object-class x_center y_center width height"
   ]
  },
  {
   "cell_type": "code",
   "execution_count": 3,
   "metadata": {},
   "outputs": [],
   "source": [
    "image = cv2.imread('data/1_train-val_1min_aalesund_from_start/img1/000001.jpg')\n",
    "height, width, _ = image.shape\n",
    "\n",
    "convert_to_yolo_format(preprcessed_image_path_1, width, height, gt_for_YOLO_path_1)\n",
    "convert_to_yolo_format(preprcessed_image_path_2, width, height, gt_for_YOLO_path_2)\n",
    "convert_to_yolo_format(preprcessed_image_path_3, width, height, gt_for_YOLO_path_3)"
   ]
  },
  {
   "cell_type": "markdown",
   "metadata": {},
   "source": [
    "## Creating a folder with all images used for training, and a folder with all corrosponing labels."
   ]
  },
  {
   "cell_type": "markdown",
   "metadata": {},
   "source": [
    "#### player/ball training"
   ]
  },
  {
   "cell_type": "code",
   "execution_count": 4,
   "metadata": {},
   "outputs": [],
   "source": [
    "copy_and_rename_images_labels(image_dirs, label_dirs, output_image_dir, output_label_dir)"
   ]
  },
  {
   "cell_type": "markdown",
   "metadata": {},
   "source": [
    "## Splitting the data into train and validation set (Combined)"
   ]
  },
  {
   "cell_type": "code",
   "execution_count": 7,
   "metadata": {},
   "outputs": [],
   "source": [
    "split_ratio = 0.2\n",
    "\n",
    "image_combined_path = 'data/combined_data/images'\n",
    "gt_combined_data = 'data/combined_data/labels'\n",
    "\n",
    "training_images_path = 'data/yolo_data/combined_data/training/images'\n",
    "training_labels_path = 'data/yolo_data/combined_data/training/labels'\n",
    "\n",
    "validation_images_path = 'data/yolo_data/combined_data/validation/images'\n",
    "validation_labels_path = 'data/yolo_data/combined_data/validation/labels'\n",
    "\n",
    "split_dataset(image_combined_path, gt_combined_data, training_images_path, training_labels_path, validation_images_path, validation_labels_path, split_ratio)"
   ]
  },
  {
   "cell_type": "markdown",
   "metadata": {},
   "source": [
    "### Pre-training"
   ]
  },
  {
   "cell_type": "code",
   "execution_count": 7,
   "metadata": {},
   "outputs": [],
   "source": [
    "split_ratio = 0.2\n",
    "\n",
    "pre_trained_image_combined_path = 'data/pre_trained/combined_data/images'\n",
    "pre_trained_gt_combined_data = 'data/pre_trained/combined_data/labels'\n",
    "\n",
    "pre_trained_gt_combined_data_training_images_path = 'data/pre_trained/combined_data/training/images'\n",
    "pre_trained_gt_combined_data_training_labels_path = 'data/pre_trained/combined_data/training/labels'\n",
    "\n",
    "pre_trained_validation_images_path = 'data/pre_trained/combined_data/validation/images'\n",
    "pre_trained_validation_labels_path = 'data/pre_trained/combined_data/validation/labels'\n",
    "\n",
    "split_dataset(pre_trained_image_combined_path, pre_trained_gt_combined_data, pre_trained_gt_combined_data_training_images_path, pre_trained_gt_combined_data_training_labels_path, pre_trained_validation_images_path, pre_trained_validation_labels_path, split_ratio)"
   ]
  },
  {
   "cell_type": "markdown",
   "metadata": {},
   "source": [
    "#### Keypoints"
   ]
  },
  {
   "cell_type": "code",
   "execution_count": 15,
   "metadata": {},
   "outputs": [],
   "source": [
    "split_ratio = 0.2\n",
    "\n",
    "combined_keypoints_images = 'data/combined_keypoints/images'\n",
    "combined_keypoints_labels = 'data/combined_keypoints/labels'\n",
    "\n",
    "training_images_path = 'data/yolo_data/combined_keypoints/training/images'\n",
    "training_labels_path = 'data/yolo_data/combined_keypoints/training/labels'\n",
    "\n",
    "validation_images_path = 'data/yolo_data/combined_keypoints/validation/images'\n",
    "validation_labels_path = 'data/yolo_data/combined_keypoints/validation/labels'\n",
    "\n",
    "split_dataset(combined_keypoints_images, combined_keypoints_labels, training_images_path, training_labels_path, validation_images_path, validation_labels_path, split_ratio)"
   ]
  },
  {
   "cell_type": "markdown",
   "metadata": {},
   "source": [
    "## Splitting the ball and player labels into separate files"
   ]
  },
  {
   "cell_type": "markdown",
   "metadata": {},
   "source": [
    "#### Training"
   ]
  },
  {
   "cell_type": "code",
   "execution_count": 8,
   "metadata": {},
   "outputs": [],
   "source": [
    "original_train_labels_dir = 'data/yolo_data/combined_data/training/labels'\n",
    "train_labels_ball_dir = 'data/yolo_data/ball/training/labels'\n",
    "train_labels_player_dir = 'data/yolo_data/player/training/labels'\n",
    "\n",
    "# Split training annotations\n",
    "split_annotations(original_train_labels_dir, train_labels_ball_dir, train_labels_player_dir)"
   ]
  },
  {
   "cell_type": "markdown",
   "metadata": {},
   "source": [
    "#### Validation"
   ]
  },
  {
   "cell_type": "code",
   "execution_count": 9,
   "metadata": {},
   "outputs": [],
   "source": [
    "original_validation_labels_dir = 'data/yolo_data/combined_data/validation/labels'\n",
    "validation_labels_ball_dir = 'data/yolo_data/ball/validation/labels'\n",
    "validation_labels_player_dir = 'data/yolo_data/player/validation/labels'\n",
    "\n",
    "# Split validation annotations\n",
    "split_annotations(original_validation_labels_dir, validation_labels_ball_dir, validation_labels_player_dir)"
   ]
  },
  {
   "cell_type": "markdown",
   "metadata": {},
   "source": [
    "#### pre-training"
   ]
  },
  {
   "cell_type": "code",
   "execution_count": 8,
   "metadata": {},
   "outputs": [],
   "source": [
    "pre_training_original_labels_dir = 'data/pre_trained/combined_data/training/labels'\n",
    "pre_training_train_labels_ball_dir = 'data/pre_trained/ball/training/labels'\n",
    "pre_training_train_labels_player_dir = 'data/pre_trained/player/training/labels'\n",
    "\n",
    "# validation \n",
    "\n",
    "pre_training_original_validation_labels_dir = 'data/pre_trained/combined_data/validation/labels'\n",
    "pre_training_validation_labels_ball_dir = 'data/pre_trained/ball/validation/labels'\n",
    "pre_training_validation_labels_player_dir = 'data/pre_trained/player/validation/labels'\n",
    "\n",
    "# Split training annotations\n",
    "split_annotations(pre_training_original_labels_dir, pre_training_train_labels_ball_dir, pre_training_train_labels_player_dir)\n",
    "split_annotations(pre_training_original_validation_labels_dir, pre_training_validation_labels_ball_dir, pre_training_validation_labels_player_dir)"
   ]
  },
  {
   "cell_type": "markdown",
   "metadata": {},
   "source": [
    "#### Testing"
   ]
  },
  {
   "cell_type": "code",
   "execution_count": 10,
   "metadata": {},
   "outputs": [],
   "source": [
    "original_test_data_labels = 'data/3_test_1min_hamkam_from_start/gt_for_YOLO'\n",
    "test_data_ball_labels = 'data/yolo_data/testing/ball/labels'\n",
    "test_data_player_labels = 'data/yolo_data/testing/player/labels'\n",
    "\n",
    "split_annotations(original_test_data_labels, test_data_ball_labels, test_data_player_labels)"
   ]
  },
  {
   "cell_type": "markdown",
   "metadata": {},
   "source": [
    "## Copying images to the ball/player folders"
   ]
  },
  {
   "cell_type": "markdown",
   "metadata": {},
   "source": [
    "#### Train/validation"
   ]
  },
  {
   "cell_type": "code",
   "execution_count": 11,
   "metadata": {},
   "outputs": [],
   "source": [
    "training_image_path = 'data/yolo_data/combined_data/training/images'\n",
    "ball_training_image_folder = 'data/yolo_data/ball/training/images'\n",
    "player_training_image_folder = 'data/yolo_data/player/training/images'\n",
    "\n",
    "validation_images_path = 'data/yolo_data/combined_data/validation/images'\n",
    "ball_validation_image_folder = 'data/yolo_data/ball/validation/images'\n",
    "player_validation_image_folder = 'data/yolo_data/player/validation/images'\n",
    "\n",
    "# Training images\n",
    "copy_images(training_image_path, ball_training_image_folder)\n",
    "copy_images(training_image_path, player_training_image_folder)\n",
    "\n",
    "# Validation images\n",
    "copy_images(validation_images_path, ball_validation_image_folder)\n",
    "copy_images(validation_images_path, player_validation_image_folder)"
   ]
  },
  {
   "cell_type": "markdown",
   "metadata": {},
   "source": [
    "#### For pre-training"
   ]
  },
  {
   "cell_type": "code",
   "execution_count": 9,
   "metadata": {},
   "outputs": [],
   "source": [
    "pre_training_images_path_validation = 'data/pre_trained/combined_data/validation/images'\n",
    "pre_training_ball_validation_image_folder = 'data/pre_trained/ball/validation/images'\n",
    "pre_training_player_validation_image_folder = 'data/pre_trained/player/validation/images'\n",
    "\n",
    "# training images\n",
    "pre_trained_training_images_path = 'data/pre_trained/combined_data/training/images'\n",
    "pre_trained_ball_training_image_folder = 'data/pre_trained/ball/training/images'\n",
    "pre_trained_player_training_image_folder = 'data/pre_trained/player/training/images'\n",
    "\n",
    "copy_images(pre_trained_training_images_path, pre_trained_ball_training_image_folder)\n",
    "copy_images(pre_trained_training_images_path, pre_trained_player_training_image_folder)\n",
    "\n",
    "copy_images(pre_training_images_path_validation, pre_training_ball_validation_image_folder)\n",
    "copy_images(pre_training_images_path_validation, pre_training_player_validation_image_folder)"
   ]
  },
  {
   "cell_type": "markdown",
   "metadata": {},
   "source": [
    "### For testing"
   ]
  },
  {
   "cell_type": "code",
   "execution_count": 12,
   "metadata": {},
   "outputs": [],
   "source": [
    "original_test_data_images = 'data/3_test_1min_hamkam_from_start/img1'\n",
    "\n",
    "test_data_ball_images = 'data/yolo_data/testing/ball/images'\n",
    "test_data_player_images = 'data/yolo_data/testing/player/images'\n",
    "\n",
    "copy_images(original_test_data_images, test_data_ball_images)\n",
    "copy_images(original_test_data_images, test_data_player_images)"
   ]
  },
  {
   "cell_type": "markdown",
   "metadata": {},
   "source": [
    "## Adding background images to the players training set"
   ]
  },
  {
   "cell_type": "code",
   "execution_count": 4,
   "metadata": {},
   "outputs": [],
   "source": [
    "player_training_image_path = 'data/yolo_data/player/training/images'\n",
    "player_training_labels_path = 'data/yolo_data/player/training/labels'\n",
    "\n",
    "player_validation_image_path = 'data/yolo_data/player/validation/images'\n",
    "player_validation_labels_path = 'data/yolo_data/player/validation/labels'\n",
    "\n",
    "process_images(player_training_image_path, player_training_labels_path)\n",
    "process_images(player_validation_image_path, player_validation_labels_path)"
   ]
  }
 ],
 "metadata": {
  "kernelspec": {
   "display_name": "venv",
   "language": "python",
   "name": "python3"
  },
  "language_info": {
   "codemirror_mode": {
    "name": "ipython",
    "version": 3
   },
   "file_extension": ".py",
   "mimetype": "text/x-python",
   "name": "python",
   "nbconvert_exporter": "python",
   "pygments_lexer": "ipython3",
   "version": "3.10.13"
  }
 },
 "nbformat": 4,
 "nbformat_minor": 2
}
